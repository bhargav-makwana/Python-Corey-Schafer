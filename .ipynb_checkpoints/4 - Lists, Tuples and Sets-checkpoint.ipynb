{
 "cells": [
  {
   "cell_type": "markdown",
   "id": "af451b37",
   "metadata": {},
   "source": [
    "### Lists (Mutable - we can alter the lists)"
   ]
  },
  {
   "cell_type": "code",
   "execution_count": 1,
   "id": "2383ec7d",
   "metadata": {},
   "outputs": [
    {
     "name": "stdout",
     "output_type": "stream",
     "text": [
      "['History', 'Math', 'Physics', 'ComputerScience']\n"
     ]
    }
   ],
   "source": [
    "courses = ['History', 'Math', 'Physics', 'ComputerScience']\n",
    "print(courses)"
   ]
  },
  {
   "cell_type": "code",
   "execution_count": 2,
   "id": "d577ba3e",
   "metadata": {},
   "outputs": [
    {
     "name": "stdout",
     "output_type": "stream",
     "text": [
      "4\n",
      "Physics\n",
      "ComputerScience\n"
     ]
    }
   ],
   "source": [
    "print(len(courses))\n",
    "print(courses[2]) # List Indexing\n",
    "print(courses[-1]) # Working with negative indexing from end of the list"
   ]
  },
  {
   "cell_type": "code",
   "execution_count": 3,
   "id": "2860ba50",
   "metadata": {},
   "outputs": [
    {
     "name": "stdout",
     "output_type": "stream",
     "text": [
      "['History', 'Math']\n"
     ]
    }
   ],
   "source": [
    "print(courses[:2]) # First index inclusive and last index exclusive"
   ]
  },
  {
   "cell_type": "markdown",
   "id": "649d5ed9",
   "metadata": {},
   "source": [
    "#### Appending an element at the end of the list"
   ]
  },
  {
   "cell_type": "code",
   "execution_count": 4,
   "id": "d5a1aac2",
   "metadata": {},
   "outputs": [
    {
     "data": {
      "text/plain": [
       "['History', 'Math', 'Physics', 'ComputerScience', 'Art']"
      ]
     },
     "execution_count": 4,
     "metadata": {},
     "output_type": "execute_result"
    }
   ],
   "source": [
    "courses.append('Art')\n",
    "courses"
   ]
  },
  {
   "cell_type": "code",
   "execution_count": 5,
   "id": "cfd7625e",
   "metadata": {},
   "outputs": [
    {
     "data": {
      "text/plain": [
       "['History', 'Math', 'Chemistry', 'Physics', 'ComputerScience', 'Art']"
      ]
     },
     "execution_count": 5,
     "metadata": {},
     "output_type": "execute_result"
    }
   ],
   "source": [
    "# If we want to add an elemnt at specific index then we need to use insert(index, element) method.\n",
    "courses.insert(2, 'Chemistry')\n",
    "courses"
   ]
  },
  {
   "cell_type": "markdown",
   "id": "2d7e8ea1",
   "metadata": {},
   "source": [
    "#### If we want to add another list of elements to the existing list then we use extend method."
   ]
  },
  {
   "cell_type": "code",
   "execution_count": 6,
   "id": "96557915",
   "metadata": {},
   "outputs": [],
   "source": [
    "courses_2 = ['Programming', 'Data Structures']\n",
    "courses.extend(courses_2)"
   ]
  },
  {
   "cell_type": "markdown",
   "id": "38b57c72",
   "metadata": {},
   "source": [
    "### Removing Elements"
   ]
  },
  {
   "cell_type": "code",
   "execution_count": 7,
   "id": "aa8e410a",
   "metadata": {},
   "outputs": [],
   "source": [
    "courses.remove('Art')"
   ]
  },
  {
   "cell_type": "code",
   "execution_count": 8,
   "id": "87f11eb4",
   "metadata": {},
   "outputs": [
    {
     "data": {
      "text/plain": [
       "'Data Structures'"
      ]
     },
     "execution_count": 8,
     "metadata": {},
     "output_type": "execute_result"
    }
   ],
   "source": [
    "# If we want to use our list as a stack or queue then we can use pop() for removing the last element\n",
    "popped_list = courses.pop()\n",
    "popped_list"
   ]
  },
  {
   "cell_type": "markdown",
   "id": "7eaea7fa",
   "metadata": {},
   "source": [
    "### Reversing the list"
   ]
  },
  {
   "cell_type": "code",
   "execution_count": 9,
   "id": "55785903",
   "metadata": {},
   "outputs": [
    {
     "data": {
      "text/plain": [
       "['Programming', 'ComputerScience', 'Physics', 'Chemistry', 'Math', 'History']"
      ]
     },
     "execution_count": 9,
     "metadata": {},
     "output_type": "execute_result"
    }
   ],
   "source": [
    "courses.reverse()\n",
    "courses"
   ]
  },
  {
   "cell_type": "markdown",
   "id": "9a8f033b",
   "metadata": {},
   "source": [
    "### Sorting the list"
   ]
  },
  {
   "cell_type": "code",
   "execution_count": 10,
   "id": "60719e07",
   "metadata": {},
   "outputs": [
    {
     "data": {
      "text/plain": [
       "['Chemistry', 'ComputerScience', 'History', 'Math', 'Physics', 'Programming']"
      ]
     },
     "execution_count": 10,
     "metadata": {},
     "output_type": "execute_result"
    }
   ],
   "source": [
    "courses.sort()\n",
    "courses"
   ]
  },
  {
   "cell_type": "markdown",
   "id": "731a994a",
   "metadata": {},
   "source": [
    "### Printing list in descending order"
   ]
  },
  {
   "cell_type": "code",
   "execution_count": 11,
   "id": "83f0ad25",
   "metadata": {},
   "outputs": [
    {
     "data": {
      "text/plain": [
       "['Programming', 'Physics', 'Math', 'History', 'ComputerScience', 'Chemistry']"
      ]
     },
     "execution_count": 11,
     "metadata": {},
     "output_type": "execute_result"
    }
   ],
   "source": [
    "courses.sort(reverse=True)\n",
    "courses"
   ]
  },
  {
   "cell_type": "markdown",
   "id": "82cc796d",
   "metadata": {},
   "source": [
    "### Without Altering the original list, we can use sorted() "
   ]
  },
  {
   "cell_type": "code",
   "execution_count": 12,
   "id": "35ccc3d7",
   "metadata": {},
   "outputs": [
    {
     "data": {
      "text/plain": [
       "['Chemistry', 'ComputerScience', 'History', 'Math', 'Physics', 'Programming']"
      ]
     },
     "execution_count": 12,
     "metadata": {},
     "output_type": "execute_result"
    }
   ],
   "source": [
    "sorted_list = sorted(courses)\n",
    "sorted_list"
   ]
  },
  {
   "cell_type": "code",
   "execution_count": 13,
   "id": "18259a76",
   "metadata": {},
   "outputs": [
    {
     "data": {
      "text/plain": [
       "['Programming', 'Physics', 'Math', 'History', 'ComputerScience', 'Chemistry']"
      ]
     },
     "execution_count": 13,
     "metadata": {},
     "output_type": "execute_result"
    }
   ],
   "source": [
    "courses"
   ]
  },
  {
   "cell_type": "markdown",
   "id": "531bdbba",
   "metadata": {},
   "source": [
    "### Finding the index of value (searching the value in list)"
   ]
  },
  {
   "cell_type": "code",
   "execution_count": 14,
   "id": "d7567b6a",
   "metadata": {},
   "outputs": [
    {
     "name": "stdout",
     "output_type": "stream",
     "text": [
      "3\n"
     ]
    }
   ],
   "source": [
    "print(courses.index('History'))"
   ]
  },
  {
   "cell_type": "code",
   "execution_count": 15,
   "id": "6c594292",
   "metadata": {},
   "outputs": [
    {
     "ename": "ValueError",
     "evalue": "'Art' is not in list",
     "output_type": "error",
     "traceback": [
      "\u001b[1;31m---------------------------------------------------------------------------\u001b[0m",
      "\u001b[1;31mValueError\u001b[0m                                Traceback (most recent call last)",
      "\u001b[1;32m<ipython-input-15-da33a32110e0>\u001b[0m in \u001b[0;36m<module>\u001b[1;34m\u001b[0m\n\u001b[1;32m----> 1\u001b[1;33m \u001b[0mprint\u001b[0m\u001b[1;33m(\u001b[0m\u001b[0mcourses\u001b[0m\u001b[1;33m.\u001b[0m\u001b[0mindex\u001b[0m\u001b[1;33m(\u001b[0m\u001b[1;34m'Art'\u001b[0m\u001b[1;33m)\u001b[0m\u001b[1;33m)\u001b[0m\u001b[1;33m\u001b[0m\u001b[1;33m\u001b[0m\u001b[0m\n\u001b[0m",
      "\u001b[1;31mValueError\u001b[0m: 'Art' is not in list"
     ]
    }
   ],
   "source": [
    "print(courses.index('Art'))"
   ]
  },
  {
   "cell_type": "code",
   "execution_count": null,
   "id": "e13e4981",
   "metadata": {},
   "outputs": [],
   "source": [
    "print('Art' in courses)"
   ]
  },
  {
   "cell_type": "markdown",
   "id": "ab9644ff",
   "metadata": {},
   "source": [
    "### Looping through list"
   ]
  },
  {
   "cell_type": "code",
   "execution_count": 16,
   "id": "a58a2e31",
   "metadata": {},
   "outputs": [
    {
     "data": {
      "text/plain": [
       "['Programming', 'Physics', 'Math', 'History', 'ComputerScience', 'Chemistry']"
      ]
     },
     "execution_count": 16,
     "metadata": {},
     "output_type": "execute_result"
    }
   ],
   "source": [
    "courses"
   ]
  },
  {
   "cell_type": "code",
   "execution_count": 17,
   "id": "9bdf7f08",
   "metadata": {},
   "outputs": [
    {
     "name": "stdout",
     "output_type": "stream",
     "text": [
      "Programming\n",
      "Physics\n",
      "Math\n",
      "History\n",
      "ComputerScience\n",
      "Chemistry\n"
     ]
    }
   ],
   "source": [
    "for item in courses:\n",
    "    print(item)"
   ]
  },
  {
   "cell_type": "code",
   "execution_count": 18,
   "id": "4a56ef6f",
   "metadata": {},
   "outputs": [
    {
     "name": "stdout",
     "output_type": "stream",
     "text": [
      "0 Programming\n",
      "1 Physics\n",
      "2 Math\n",
      "3 History\n",
      "4 ComputerScience\n",
      "5 Chemistry\n"
     ]
    }
   ],
   "source": [
    "for index, course in enumerate(courses):\n",
    "    print(index, course)"
   ]
  },
  {
   "cell_type": "code",
   "execution_count": 19,
   "id": "571afbad",
   "metadata": {},
   "outputs": [
    {
     "name": "stdout",
     "output_type": "stream",
     "text": [
      "Help on class enumerate in module builtins:\n",
      "\n",
      "class enumerate(object)\n",
      " |  enumerate(iterable, start=0)\n",
      " |  \n",
      " |  Return an enumerate object.\n",
      " |  \n",
      " |    iterable\n",
      " |      an object supporting iteration\n",
      " |  \n",
      " |  The enumerate object yields pairs containing a count (from start, which\n",
      " |  defaults to zero) and a value yielded by the iterable argument.\n",
      " |  \n",
      " |  enumerate is useful for obtaining an indexed list:\n",
      " |      (0, seq[0]), (1, seq[1]), (2, seq[2]), ...\n",
      " |  \n",
      " |  Methods defined here:\n",
      " |  \n",
      " |  __getattribute__(self, name, /)\n",
      " |      Return getattr(self, name).\n",
      " |  \n",
      " |  __iter__(self, /)\n",
      " |      Implement iter(self).\n",
      " |  \n",
      " |  __next__(self, /)\n",
      " |      Implement next(self).\n",
      " |  \n",
      " |  __reduce__(...)\n",
      " |      Return state information for pickling.\n",
      " |  \n",
      " |  ----------------------------------------------------------------------\n",
      " |  Static methods defined here:\n",
      " |  \n",
      " |  __new__(*args, **kwargs) from builtins.type\n",
      " |      Create and return a new object.  See help(type) for accurate signature.\n",
      "\n"
     ]
    }
   ],
   "source": [
    "help(enumerate)"
   ]
  },
  {
   "cell_type": "markdown",
   "id": "476855d2",
   "metadata": {},
   "source": [
    "### join and split"
   ]
  },
  {
   "cell_type": "code",
   "execution_count": 20,
   "id": "4cede1a2",
   "metadata": {},
   "outputs": [
    {
     "data": {
      "text/plain": [
       "'Programming-Physics-Math-History-ComputerScience-Chemistry'"
      ]
     },
     "execution_count": 20,
     "metadata": {},
     "output_type": "execute_result"
    }
   ],
   "source": [
    "courses_str = '-'.join(courses) # Join string values using -\n",
    "courses_str"
   ]
  },
  {
   "cell_type": "code",
   "execution_count": 21,
   "id": "bee744d8",
   "metadata": {},
   "outputs": [
    {
     "data": {
      "text/plain": [
       "['Programming', 'Physics', 'Math', 'History', 'ComputerScience', 'Chemistry']"
      ]
     },
     "execution_count": 21,
     "metadata": {},
     "output_type": "execute_result"
    }
   ],
   "source": [
    "new_list = courses_str.split('-') # Split string values using -\n",
    "new_list"
   ]
  },
  {
   "cell_type": "markdown",
   "id": "332a648a",
   "metadata": {},
   "source": [
    "## Tuples (immutable - we cannot change tuple objects)"
   ]
  },
  {
   "cell_type": "markdown",
   "id": "ba90b6c7",
   "metadata": {},
   "source": [
    "when we have assigned the value of one list to another list - if we change list1 it changes the values of list 2 too."
   ]
  },
  {
   "cell_type": "code",
   "execution_count": 22,
   "id": "d6adb55b",
   "metadata": {},
   "outputs": [],
   "source": [
    "tuple1 = ('Physics', 'Chemistry', 'Maths')\n",
    "tuple2 = tuple1"
   ]
  },
  {
   "cell_type": "code",
   "execution_count": 23,
   "id": "4819fa15",
   "metadata": {},
   "outputs": [
    {
     "data": {
      "text/plain": [
       "('Physics', 'Chemistry', 'Maths')"
      ]
     },
     "execution_count": 23,
     "metadata": {},
     "output_type": "execute_result"
    }
   ],
   "source": [
    "tuple1"
   ]
  },
  {
   "cell_type": "code",
   "execution_count": 24,
   "id": "b7d598e5",
   "metadata": {},
   "outputs": [
    {
     "data": {
      "text/plain": [
       "('Physics', 'Chemistry', 'Maths')"
      ]
     },
     "execution_count": 24,
     "metadata": {},
     "output_type": "execute_result"
    }
   ],
   "source": [
    "tuple2"
   ]
  },
  {
   "cell_type": "code",
   "execution_count": 25,
   "id": "e583cbc2",
   "metadata": {},
   "outputs": [
    {
     "ename": "TypeError",
     "evalue": "'tuple' object does not support item assignment",
     "output_type": "error",
     "traceback": [
      "\u001b[1;31m---------------------------------------------------------------------------\u001b[0m",
      "\u001b[1;31mTypeError\u001b[0m                                 Traceback (most recent call last)",
      "\u001b[1;32m<ipython-input-25-dec13e9324c0>\u001b[0m in \u001b[0;36m<module>\u001b[1;34m\u001b[0m\n\u001b[1;32m----> 1\u001b[1;33m \u001b[0mtuple1\u001b[0m\u001b[1;33m[\u001b[0m\u001b[1;36m0\u001b[0m\u001b[1;33m]\u001b[0m \u001b[1;33m=\u001b[0m \u001b[1;34m'Arts'\u001b[0m\u001b[1;33m\u001b[0m\u001b[1;33m\u001b[0m\u001b[0m\n\u001b[0m\u001b[0;32m      2\u001b[0m \u001b[0mtuple1\u001b[0m\u001b[1;33m\u001b[0m\u001b[1;33m\u001b[0m\u001b[0m\n",
      "\u001b[1;31mTypeError\u001b[0m: 'tuple' object does not support item assignment"
     ]
    }
   ],
   "source": [
    "tuple1[0] = 'Arts'\n",
    "tuple1"
   ]
  },
  {
   "cell_type": "markdown",
   "id": "94e60ba4",
   "metadata": {},
   "source": [
    "## Sets"
   ]
  },
  {
   "cell_type": "code",
   "execution_count": 64,
   "id": "dedc140f",
   "metadata": {},
   "outputs": [
    {
     "data": {
      "text/plain": [
       "{'Algorithmics', 'Data Structures', 'Programming'}"
      ]
     },
     "execution_count": 64,
     "metadata": {},
     "output_type": "execute_result"
    }
   ],
   "source": [
    "cs_courses = {'Algorithmics', 'Data Structures', 'Programming'}\n",
    "cs_courses"
   ]
  },
  {
   "cell_type": "code",
   "execution_count": 65,
   "id": "e7bd33f4",
   "metadata": {},
   "outputs": [
    {
     "data": {
      "text/plain": [
       "True"
      ]
     },
     "execution_count": 65,
     "metadata": {},
     "output_type": "execute_result"
    }
   ],
   "source": [
    "'Algorithmics' in cs_courses"
   ]
  },
  {
   "cell_type": "code",
   "execution_count": 66,
   "id": "2b350221",
   "metadata": {},
   "outputs": [
    {
     "data": {
      "text/plain": [
       "{'Drawing', 'History', 'Programming'}"
      ]
     },
     "execution_count": 66,
     "metadata": {},
     "output_type": "execute_result"
    }
   ],
   "source": [
    "art_courses = {'Programming', 'History', 'Drawing'}\n",
    "art_courses"
   ]
  },
  {
   "cell_type": "code",
   "execution_count": 68,
   "id": "cbae79bd",
   "metadata": {},
   "outputs": [
    {
     "data": {
      "text/plain": [
       "{'Programming'}"
      ]
     },
     "execution_count": 68,
     "metadata": {},
     "output_type": "execute_result"
    }
   ],
   "source": [
    "cs_courses.intersection(art_courses)"
   ]
  },
  {
   "cell_type": "code",
   "execution_count": 69,
   "id": "08149562",
   "metadata": {},
   "outputs": [
    {
     "data": {
      "text/plain": [
       "{'Algorithmics', 'Data Structures', 'Drawing', 'History', 'Programming'}"
      ]
     },
     "execution_count": 69,
     "metadata": {},
     "output_type": "execute_result"
    }
   ],
   "source": [
    "cs_courses.union(art_courses)"
   ]
  },
  {
   "cell_type": "markdown",
   "id": "b64fe4fb",
   "metadata": {},
   "source": [
    "### How to create empty lists, tuples and sets"
   ]
  },
  {
   "cell_type": "code",
   "execution_count": 79,
   "id": "daa7e18c",
   "metadata": {},
   "outputs": [],
   "source": [
    "# Empty List\n",
    "empty_list = []\n",
    "empty_list = list()"
   ]
  },
  {
   "cell_type": "code",
   "execution_count": 78,
   "id": "e833d100",
   "metadata": {},
   "outputs": [],
   "source": [
    "# Empty Tuple\n",
    "empty_tuple = ()\n",
    "empty_tuple = tuple()"
   ]
  },
  {
   "cell_type": "code",
   "execution_count": 80,
   "id": "66721e48",
   "metadata": {},
   "outputs": [],
   "source": [
    "# Empty Set\n",
    "empty_set = ()\n",
    "empty_set = set()"
   ]
  }
 ],
 "metadata": {
  "kernelspec": {
   "display_name": "Python 3",
   "language": "python",
   "name": "python3"
  },
  "language_info": {
   "codemirror_mode": {
    "name": "ipython",
    "version": 3
   },
   "file_extension": ".py",
   "mimetype": "text/x-python",
   "name": "python",
   "nbconvert_exporter": "python",
   "pygments_lexer": "ipython3",
   "version": "3.8.8"
  }
 },
 "nbformat": 4,
 "nbformat_minor": 5
}
