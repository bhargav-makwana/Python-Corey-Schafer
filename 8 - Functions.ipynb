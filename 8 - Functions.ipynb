{
 "cells": [
  {
   "cell_type": "markdown",
   "id": "7f9162b2",
   "metadata": {},
   "source": [
    "### Functions"
   ]
  },
  {
   "cell_type": "code",
   "execution_count": 12,
   "id": "392fe2cd",
   "metadata": {
    "scrolled": true
   },
   "outputs": [
    {
     "name": "stdout",
     "output_type": "stream",
     "text": [
      "Hello World\n",
      "Hello World\n",
      "Hello World\n",
      "Hello World\n",
      "Hello World\n",
      "Hello World\n",
      "Hello World\n",
      "Hello World\n",
      "Hello World\n",
      "Hello World\n"
     ]
    }
   ],
   "source": [
    "def hello_func():\n",
    "    print('Hello World')\n",
    "\n",
    "for i in range(10):\n",
    "    hello_func()"
   ]
  },
  {
   "cell_type": "code",
   "execution_count": 24,
   "id": "a57ba6ee",
   "metadata": {},
   "outputs": [
    {
     "name": "stdout",
     "output_type": "stream",
     "text": [
      "HELLO WORLD\n"
     ]
    }
   ],
   "source": [
    "# We are returning string here, so we can use functions on string.\n",
    "def hello_func():\n",
    "    return 'Hello World'\n",
    "\n",
    "print(hello_func().upper())"
   ]
  },
  {
   "cell_type": "code",
   "execution_count": 31,
   "id": "af5eb137",
   "metadata": {
    "scrolled": true
   },
   "outputs": [
    {
     "name": "stdout",
     "output_type": "stream",
     "text": [
      "Hello Function\n"
     ]
    }
   ],
   "source": [
    "# F string in function\n",
    "def hello_func(greeting):\n",
    "    return f'{greeting} Function'.format(greeting)\n",
    "\n",
    "print(hello_func('Hello'))"
   ]
  },
  {
   "cell_type": "code",
   "execution_count": 32,
   "id": "7ecec43c",
   "metadata": {},
   "outputs": [],
   "source": [
    "# greeting - local scope, it doesn't affect other code."
   ]
  },
  {
   "cell_type": "code",
   "execution_count": 35,
   "id": "e7d7f07c",
   "metadata": {},
   "outputs": [
    {
     "name": "stdout",
     "output_type": "stream",
     "text": [
      "Hello You Function\n"
     ]
    }
   ],
   "source": [
    "# We didn't mention second argument while calling the function.\n",
    "def hello_func(greeting, name='You'):\n",
    "    return f'{greeting} {name} Function'.format(greeting, name)\n",
    "\n",
    "print(hello_func('Hello'))"
   ]
  },
  {
   "cell_type": "code",
   "execution_count": 1,
   "id": "39766702",
   "metadata": {},
   "outputs": [
    {
     "name": "stdout",
     "output_type": "stream",
     "text": [
      "(['Math', 'Arts'], {'name': 'John', 'age': 22})\n",
      "{}\n",
      "('Math', 'Arts')\n",
      "{'name': 'John', 'age': 22}\n"
     ]
    }
   ],
   "source": [
    "def students_info(*args, **kwargs):\n",
    "    print(args)\n",
    "    print(kwargs)\n",
    "\n",
    "courses = ['Math', 'Arts']\n",
    "info = {'name': 'John', 'age' : 22}\n",
    "\n",
    "students_info(courses, info)\n",
    "students_info(*courses, **info)"
   ]
  }
 ],
 "metadata": {
  "kernelspec": {
   "display_name": "Python 3",
   "language": "python",
   "name": "python3"
  },
  "language_info": {
   "codemirror_mode": {
    "name": "ipython",
    "version": 3
   },
   "file_extension": ".py",
   "mimetype": "text/x-python",
   "name": "python",
   "nbconvert_exporter": "python",
   "pygments_lexer": "ipython3",
   "version": "3.8.8"
  }
 },
 "nbformat": 4,
 "nbformat_minor": 5
}
