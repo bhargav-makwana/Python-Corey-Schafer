{
 "cells": [
  {
   "cell_type": "markdown",
   "id": "0a8c00c3",
   "metadata": {},
   "source": [
    "### Conditionals"
   ]
  },
  {
   "cell_type": "code",
   "execution_count": 1,
   "id": "1dfb2012",
   "metadata": {},
   "outputs": [
    {
     "name": "stdout",
     "output_type": "stream",
     "text": [
      "Conditional was True\n"
     ]
    }
   ],
   "source": [
    "if True:\n",
    "    print('Conditional was True')"
   ]
  },
  {
   "cell_type": "code",
   "execution_count": 8,
   "id": "60d5ab57",
   "metadata": {},
   "outputs": [
    {
     "name": "stdout",
     "output_type": "stream",
     "text": [
      "No match\n"
     ]
    }
   ],
   "source": [
    "# IF ELSE statements\n",
    "language = 'Java'\n",
    "if language == 'Python':\n",
    "    print('Language is Python')\n",
    "else:\n",
    "    print('No match')"
   ]
  },
  {
   "cell_type": "code",
   "execution_count": 10,
   "id": "7291de71",
   "metadata": {},
   "outputs": [
    {
     "name": "stdout",
     "output_type": "stream",
     "text": [
      "Language is Java\n"
     ]
    }
   ],
   "source": [
    "# EL IF \n",
    "language = 'Java'\n",
    "if language == 'Python':\n",
    "    print('Language is Python')\n",
    "elif language == 'Java':\n",
    "    print('Language is Java')\n",
    "else:\n",
    "    print('No match')"
   ]
  },
  {
   "cell_type": "code",
   "execution_count": 11,
   "id": "70c8fd57",
   "metadata": {},
   "outputs": [],
   "source": [
    "# Python does not have switch case because we can add multiple elif statements to check the conditions"
   ]
  },
  {
   "cell_type": "code",
   "execution_count": 15,
   "id": "cc52176f",
   "metadata": {},
   "outputs": [
    {
     "name": "stdout",
     "output_type": "stream",
     "text": [
      "Admin Page\n"
     ]
    }
   ],
   "source": [
    "# AND OR NOT\n",
    "\n",
    "user = 'Admin'\n",
    "logged_in = True\n",
    "\n",
    "if user == 'Admin' and logged_in:\n",
    "    print('Admin Page')\n",
    "else:\n",
    "    print('Invalid Credentials')\n",
    "    "
   ]
  },
  {
   "cell_type": "code",
   "execution_count": 18,
   "id": "d1a47e3b",
   "metadata": {},
   "outputs": [
    {
     "name": "stdout",
     "output_type": "stream",
     "text": [
      "Admin Page\n"
     ]
    }
   ],
   "source": [
    "if user != 'Admin' or logged_in:\n",
    "    print('Admin Page')\n",
    "else:\n",
    "    print('Invalid Credentials')"
   ]
  },
  {
   "cell_type": "markdown",
   "id": "09dc4699",
   "metadata": {},
   "source": [
    "### Checking Equalities"
   ]
  },
  {
   "cell_type": "code",
   "execution_count": 45,
   "id": "31afdcae",
   "metadata": {},
   "outputs": [
    {
     "name": "stdout",
     "output_type": "stream",
     "text": [
      "True\n"
     ]
    }
   ],
   "source": [
    "a = [1,2,3]\n",
    "b = a\n",
    "print(a == b)"
   ]
  },
  {
   "cell_type": "code",
   "execution_count": 46,
   "id": "3dfbecf4",
   "metadata": {},
   "outputs": [
    {
     "name": "stdout",
     "output_type": "stream",
     "text": [
      "True\n",
      "2436500939392\n",
      "2436500939392\n"
     ]
    }
   ],
   "source": [
    "print(a is b) # Belongs to same object\n",
    "print(id(b))\n",
    "print(id(a)) # Same id -- same memory locations"
   ]
  },
  {
   "cell_type": "code",
   "execution_count": 47,
   "id": "18055bf8",
   "metadata": {},
   "outputs": [
    {
     "name": "stdout",
     "output_type": "stream",
     "text": [
      "True\n"
     ]
    }
   ],
   "source": [
    "b = [1,2,3]\n",
    "print(a == b) # Same values that's why it is True"
   ]
  },
  {
   "cell_type": "code",
   "execution_count": 48,
   "id": "1ca1c570",
   "metadata": {},
   "outputs": [
    {
     "name": "stdout",
     "output_type": "stream",
     "text": [
      "False\n",
      "2436500939392\n",
      "2436500960832\n"
     ]
    }
   ],
   "source": [
    "print(a is b) # Belongs to different object\n",
    "print(id(a))\n",
    "print(id(b)) # Different ids -- different memory locations"
   ]
  },
  {
   "cell_type": "markdown",
   "id": "b3744ab3",
   "metadata": {},
   "source": [
    "### False Values\n",
    "1. False\n",
    "2. None\n",
    "3. Zero of any numeric type \n",
    "4. Any empty sequence. For example, '', (), []\n",
    "5. Any empty mapping. For example, {}"
   ]
  },
  {
   "cell_type": "code",
   "execution_count": 49,
   "id": "4df19c61",
   "metadata": {},
   "outputs": [
    {
     "name": "stdout",
     "output_type": "stream",
     "text": [
      "Evaluated to False\n"
     ]
    }
   ],
   "source": [
    "condition = False\n",
    "if condition:\n",
    "    print('Evaluated to True')\n",
    "else:\n",
    "    print('Evaluated to False')"
   ]
  },
  {
   "cell_type": "code",
   "execution_count": 50,
   "id": "cf9fe245",
   "metadata": {},
   "outputs": [
    {
     "name": "stdout",
     "output_type": "stream",
     "text": [
      "Evaluated to False\n"
     ]
    }
   ],
   "source": [
    "condition = None\n",
    "if condition:\n",
    "    print('Evaluated to True')\n",
    "else:\n",
    "    print('Evaluated to False')"
   ]
  },
  {
   "cell_type": "code",
   "execution_count": 52,
   "id": "3fa99085",
   "metadata": {},
   "outputs": [
    {
     "name": "stdout",
     "output_type": "stream",
     "text": [
      "Evaluated to True\n"
     ]
    }
   ],
   "source": [
    "condition = 23\n",
    "if condition:\n",
    "    print('Evaluated to True')\n",
    "else:\n",
    "    print('Evaluated to False')"
   ]
  },
  {
   "cell_type": "code",
   "execution_count": 54,
   "id": "2b31ba5b",
   "metadata": {},
   "outputs": [
    {
     "name": "stdout",
     "output_type": "stream",
     "text": [
      "Evaluated to False\n"
     ]
    }
   ],
   "source": [
    "condition = 0\n",
    "if condition:\n",
    "    print('Evaluated to True')\n",
    "else:\n",
    "    print('Evaluated to False')"
   ]
  },
  {
   "cell_type": "code",
   "execution_count": 55,
   "id": "09270d99",
   "metadata": {},
   "outputs": [
    {
     "name": "stdout",
     "output_type": "stream",
     "text": [
      "Evaluated to False\n"
     ]
    }
   ],
   "source": [
    "condition = ()\n",
    "if condition:\n",
    "    print('Evaluated to True')\n",
    "else:\n",
    "    print('Evaluated to False')"
   ]
  }
 ],
 "metadata": {
  "kernelspec": {
   "display_name": "Python 3",
   "language": "python",
   "name": "python3"
  },
  "language_info": {
   "codemirror_mode": {
    "name": "ipython",
    "version": 3
   },
   "file_extension": ".py",
   "mimetype": "text/x-python",
   "name": "python",
   "nbconvert_exporter": "python",
   "pygments_lexer": "ipython3",
   "version": "3.8.8"
  }
 },
 "nbformat": 4,
 "nbformat_minor": 5
}
