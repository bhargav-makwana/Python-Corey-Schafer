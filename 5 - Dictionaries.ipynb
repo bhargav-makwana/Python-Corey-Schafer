{
 "cells": [
  {
   "cell_type": "markdown",
   "id": "abd7119c",
   "metadata": {},
   "source": [
    "## Dictionaries (Mutable)"
   ]
  },
  {
   "cell_type": "code",
   "execution_count": 1,
   "id": "3d727eba",
   "metadata": {},
   "outputs": [],
   "source": [
    "students = {'name': 'John', 'age': 25, 'courses': ['Maths', 'Computer Science']} # Key : Value pairs"
   ]
  },
  {
   "cell_type": "code",
   "execution_count": 2,
   "id": "d0df1ce6",
   "metadata": {},
   "outputs": [
    {
     "data": {
      "text/plain": [
       "{'name': 'John', 'age': 25, 'courses': ['Maths', 'Computer Science']}"
      ]
     },
     "execution_count": 2,
     "metadata": {},
     "output_type": "execute_result"
    }
   ],
   "source": [
    "students"
   ]
  },
  {
   "cell_type": "code",
   "execution_count": 4,
   "id": "a8977543",
   "metadata": {},
   "outputs": [
    {
     "data": {
      "text/plain": [
       "'John'"
      ]
     },
     "execution_count": 4,
     "metadata": {},
     "output_type": "execute_result"
    }
   ],
   "source": [
    "students['name']"
   ]
  },
  {
   "cell_type": "code",
   "execution_count": 5,
   "id": "8105b1f6",
   "metadata": {},
   "outputs": [
    {
     "ename": "KeyError",
     "evalue": "'phone'",
     "output_type": "error",
     "traceback": [
      "\u001b[1;31m---------------------------------------------------------------------------\u001b[0m",
      "\u001b[1;31mKeyError\u001b[0m                                  Traceback (most recent call last)",
      "\u001b[1;32m<ipython-input-5-e0b6447041ca>\u001b[0m in \u001b[0;36m<module>\u001b[1;34m\u001b[0m\n\u001b[1;32m----> 1\u001b[1;33m \u001b[0mstudents\u001b[0m\u001b[1;33m[\u001b[0m\u001b[1;34m'phone'\u001b[0m\u001b[1;33m]\u001b[0m\u001b[1;33m\u001b[0m\u001b[1;33m\u001b[0m\u001b[0m\n\u001b[0m",
      "\u001b[1;31mKeyError\u001b[0m: 'phone'"
     ]
    }
   ],
   "source": [
    "students['phone']"
   ]
  },
  {
   "cell_type": "code",
   "execution_count": 10,
   "id": "5f936da4",
   "metadata": {},
   "outputs": [
    {
     "name": "stdout",
     "output_type": "stream",
     "text": [
      "None\n"
     ]
    }
   ],
   "source": [
    "print(students.get('phone')) # It will give None value if doesn't exist"
   ]
  },
  {
   "cell_type": "code",
   "execution_count": 11,
   "id": "9f567fc4",
   "metadata": {},
   "outputs": [
    {
     "name": "stdout",
     "output_type": "stream",
     "text": [
      "Not Found\n"
     ]
    }
   ],
   "source": [
    "print(students.get('phone', 'Not Found')) # We can set the default value "
   ]
  },
  {
   "cell_type": "code",
   "execution_count": 14,
   "id": "7abdc26c",
   "metadata": {},
   "outputs": [],
   "source": [
    "students['phone'] = '555-555'\n",
    "students['name'] = 'James'"
   ]
  },
  {
   "cell_type": "code",
   "execution_count": 16,
   "id": "38daf83e",
   "metadata": {},
   "outputs": [
    {
     "data": {
      "text/plain": [
       "{'name': 'James',\n",
       " 'age': 25,\n",
       " 'courses': ['Maths', 'Computer Science'],\n",
       " 'phone': '555-555'}"
      ]
     },
     "execution_count": 16,
     "metadata": {},
     "output_type": "execute_result"
    }
   ],
   "source": [
    "students"
   ]
  },
  {
   "cell_type": "markdown",
   "id": "c66fc38e",
   "metadata": {},
   "source": [
    "### Updating the dictionary"
   ]
  },
  {
   "cell_type": "code",
   "execution_count": 25,
   "id": "bbb0b1ca",
   "metadata": {},
   "outputs": [
    {
     "data": {
      "text/plain": [
       "{'name': 'Raghav',\n",
       " 'courses': ['Maths', 'Computer Science'],\n",
       " 'phone': '555-555',\n",
       " 'gender': 'male'}"
      ]
     },
     "execution_count": 25,
     "metadata": {},
     "output_type": "execute_result"
    }
   ],
   "source": [
    "students.update({'gender':'male', 'name':'Raghav'})\n",
    "students"
   ]
  },
  {
   "cell_type": "markdown",
   "id": "3857716d",
   "metadata": {},
   "source": [
    "### Deleting the key-pair value"
   ]
  },
  {
   "cell_type": "code",
   "execution_count": 26,
   "id": "a6a196bd",
   "metadata": {},
   "outputs": [],
   "source": [
    "del students['gender']"
   ]
  },
  {
   "cell_type": "code",
   "execution_count": 28,
   "id": "ef209535",
   "metadata": {},
   "outputs": [
    {
     "data": {
      "text/plain": [
       "'555-555'"
      ]
     },
     "execution_count": 28,
     "metadata": {},
     "output_type": "execute_result"
    }
   ],
   "source": [
    "students.pop('phone')"
   ]
  },
  {
   "cell_type": "markdown",
   "id": "74b77b98",
   "metadata": {},
   "source": [
    "### Looping through dictionary"
   ]
  },
  {
   "cell_type": "code",
   "execution_count": 30,
   "id": "8afde1ae",
   "metadata": {},
   "outputs": [
    {
     "name": "stdout",
     "output_type": "stream",
     "text": [
      "dict_keys(['name', 'courses'])\n"
     ]
    }
   ],
   "source": [
    "print(students.keys())"
   ]
  },
  {
   "cell_type": "code",
   "execution_count": 32,
   "id": "740c7e20",
   "metadata": {},
   "outputs": [
    {
     "name": "stdout",
     "output_type": "stream",
     "text": [
      "dict_values(['Raghav', ['Maths', 'Computer Science']])\n"
     ]
    }
   ],
   "source": [
    "print(students.values())"
   ]
  },
  {
   "cell_type": "code",
   "execution_count": 33,
   "id": "21908888",
   "metadata": {},
   "outputs": [
    {
     "name": "stdout",
     "output_type": "stream",
     "text": [
      "dict_items([('name', 'Raghav'), ('courses', ['Maths', 'Computer Science'])])\n"
     ]
    }
   ],
   "source": [
    "print(students.items())"
   ]
  },
  {
   "cell_type": "code",
   "execution_count": 36,
   "id": "2627bcb8",
   "metadata": {},
   "outputs": [
    {
     "name": "stdout",
     "output_type": "stream",
     "text": [
      "name Raghav\n",
      "courses ['Maths', 'Computer Science']\n"
     ]
    }
   ],
   "source": [
    "for key, value in students.items():\n",
    "    print(key, value)"
   ]
  }
 ],
 "metadata": {
  "kernelspec": {
   "display_name": "Python 3",
   "language": "python",
   "name": "python3"
  },
  "language_info": {
   "codemirror_mode": {
    "name": "ipython",
    "version": 3
   },
   "file_extension": ".py",
   "mimetype": "text/x-python",
   "name": "python",
   "nbconvert_exporter": "python",
   "pygments_lexer": "ipython3",
   "version": "3.8.8"
  }
 },
 "nbformat": 4,
 "nbformat_minor": 5
}
